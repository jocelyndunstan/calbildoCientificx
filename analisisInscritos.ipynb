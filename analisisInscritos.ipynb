{
 "cells": [
  {
   "cell_type": "markdown",
   "metadata": {},
   "source": [
    "# Análisis de los incritos en el Cabildo de Científicxs"
   ]
  },
  {
   "cell_type": "markdown",
   "metadata": {},
   "source": [
    "### FCFM, 4 de noviembre de 2019"
   ]
  },
  {
   "cell_type": "code",
   "execution_count": 1,
   "metadata": {
    "collapsed": true
   },
   "outputs": [],
   "source": [
    "import pandas as pd\n",
    "import numpy as np\n",
    "import re\n",
    "import nltk\n",
    "\n",
    "import warnings\n",
    "warnings.filterwarnings(\"ignore\")"
   ]
  },
  {
   "cell_type": "code",
   "execution_count": 2,
   "metadata": {
    "collapsed": true
   },
   "outputs": [],
   "source": [
    "datos = pd.read_excel(\"inscritosCabildo_sinRUT.xlsx\")"
   ]
  },
  {
   "cell_type": "code",
   "execution_count": 3,
   "metadata": {},
   "outputs": [
    {
     "data": {
      "text/plain": [
       "(186, 6)"
      ]
     },
     "execution_count": 3,
     "metadata": {},
     "output_type": "execute_result"
    }
   ],
   "source": [
    "datos.shape"
   ]
  },
  {
   "cell_type": "code",
   "execution_count": 4,
   "metadata": {},
   "outputs": [
    {
     "data": {
      "text/html": [
       "<div>\n",
       "<style scoped>\n",
       "    .dataframe tbody tr th:only-of-type {\n",
       "        vertical-align: middle;\n",
       "    }\n",
       "\n",
       "    .dataframe tbody tr th {\n",
       "        vertical-align: top;\n",
       "    }\n",
       "\n",
       "    .dataframe thead th {\n",
       "        text-align: right;\n",
       "    }\n",
       "</style>\n",
       "<table border=\"1\" class=\"dataframe\">\n",
       "  <thead>\n",
       "    <tr style=\"text-align: right;\">\n",
       "      <th></th>\n",
       "      <th>Timestamp</th>\n",
       "      <th>Edad</th>\n",
       "      <th>Sexo</th>\n",
       "      <th>Etapa en la que estás en tu carrera</th>\n",
       "      <th>Facultad en la que trabajas  (e.g. FCFM)</th>\n",
       "      <th>Universidad a la que pertences (e.g U.Chile)</th>\n",
       "    </tr>\n",
       "  </thead>\n",
       "  <tbody>\n",
       "    <tr>\n",
       "      <td>167</td>\n",
       "      <td>2019-11-04 15:33:31.022</td>\n",
       "      <td>23</td>\n",
       "      <td>Femenino</td>\n",
       "      <td>Estudiante</td>\n",
       "      <td>Fcfm</td>\n",
       "      <td>Universidad de chile</td>\n",
       "    </tr>\n",
       "    <tr>\n",
       "      <td>130</td>\n",
       "      <td>2019-11-04 14:25:15.307</td>\n",
       "      <td>40</td>\n",
       "      <td>Masculino</td>\n",
       "      <td>Investigador</td>\n",
       "      <td>Fundación Juan Enrique Lagarrigue</td>\n",
       "      <td>Egresado Universidad Arcis</td>\n",
       "    </tr>\n",
       "    <tr>\n",
       "      <td>52</td>\n",
       "      <td>2019-11-04 14:13:41.272</td>\n",
       "      <td>26</td>\n",
       "      <td>Femenino</td>\n",
       "      <td>Estudiante</td>\n",
       "      <td>Faciqyf</td>\n",
       "      <td>U. Chile</td>\n",
       "    </tr>\n",
       "  </tbody>\n",
       "</table>\n",
       "</div>"
      ],
      "text/plain": [
       "                  Timestamp  Edad       Sexo  \\\n",
       "167 2019-11-04 15:33:31.022    23   Femenino   \n",
       "130 2019-11-04 14:25:15.307    40  Masculino   \n",
       "52  2019-11-04 14:13:41.272    26   Femenino   \n",
       "\n",
       "    Etapa en la que estás en tu carrera  \\\n",
       "167                          Estudiante   \n",
       "130                        Investigador   \n",
       "52                           Estudiante   \n",
       "\n",
       "    Facultad en la que trabajas  (e.g. FCFM)  \\\n",
       "167                                     Fcfm   \n",
       "130        Fundación Juan Enrique Lagarrigue   \n",
       "52                                   Faciqyf   \n",
       "\n",
       "    Universidad a la que pertences (e.g U.Chile)  \n",
       "167                        Universidad de chile   \n",
       "130                   Egresado Universidad Arcis  \n",
       "52                                      U. Chile  "
      ]
     },
     "execution_count": 4,
     "metadata": {},
     "output_type": "execute_result"
    }
   ],
   "source": [
    "datos.sample(3)"
   ]
  },
  {
   "cell_type": "code",
   "execution_count": 5,
   "metadata": {},
   "outputs": [],
   "source": [
    "datos.columns = ['timestamp', 'edad', 'sexo', 'posicion', 'lugar', 'institucion']"
   ]
  },
  {
   "cell_type": "code",
   "execution_count": 6,
   "metadata": {},
   "outputs": [
    {
     "data": {
      "text/plain": [
       "['timestamp', 'edad', 'sexo', 'posicion', 'lugar', 'institucion']"
      ]
     },
     "execution_count": 6,
     "metadata": {},
     "output_type": "execute_result"
    }
   ],
   "source": [
    "list(datos.columns) "
   ]
  },
  {
   "cell_type": "code",
   "execution_count": 8,
   "metadata": {},
   "outputs": [
    {
     "data": {
      "text/html": [
       "<div>\n",
       "<style scoped>\n",
       "    .dataframe tbody tr th:only-of-type {\n",
       "        vertical-align: middle;\n",
       "    }\n",
       "\n",
       "    .dataframe tbody tr th {\n",
       "        vertical-align: top;\n",
       "    }\n",
       "\n",
       "    .dataframe thead th {\n",
       "        text-align: right;\n",
       "    }\n",
       "</style>\n",
       "<table border=\"1\" class=\"dataframe\">\n",
       "  <thead>\n",
       "    <tr style=\"text-align: right;\">\n",
       "      <th></th>\n",
       "      <th>0</th>\n",
       "    </tr>\n",
       "  </thead>\n",
       "  <tbody>\n",
       "    <tr>\n",
       "      <td>timestamp</td>\n",
       "      <td>0.000000</td>\n",
       "    </tr>\n",
       "    <tr>\n",
       "      <td>edad</td>\n",
       "      <td>0.000000</td>\n",
       "    </tr>\n",
       "    <tr>\n",
       "      <td>sexo</td>\n",
       "      <td>0.000000</td>\n",
       "    </tr>\n",
       "    <tr>\n",
       "      <td>posicion</td>\n",
       "      <td>0.000000</td>\n",
       "    </tr>\n",
       "    <tr>\n",
       "      <td>lugar</td>\n",
       "      <td>6.451613</td>\n",
       "    </tr>\n",
       "    <tr>\n",
       "      <td>institucion</td>\n",
       "      <td>2.688172</td>\n",
       "    </tr>\n",
       "  </tbody>\n",
       "</table>\n",
       "</div>"
      ],
      "text/plain": [
       "                    0\n",
       "timestamp    0.000000\n",
       "edad         0.000000\n",
       "sexo         0.000000\n",
       "posicion     0.000000\n",
       "lugar        6.451613\n",
       "institucion  2.688172"
      ]
     },
     "execution_count": 8,
     "metadata": {},
     "output_type": "execute_result"
    }
   ],
   "source": [
    "pd.DataFrame(datos.isnull().sum() * 100 / len(datos))"
   ]
  },
  {
   "cell_type": "code",
   "execution_count": 10,
   "metadata": {
    "collapsed": true
   },
   "outputs": [],
   "source": [
    "datos['lugar'] = datos['lugar'].str.normalize('NFKD').str.encode('ascii', errors='ignore').str.decode('utf-8')\n",
    "datos['lugar'] = datos['lugar'].str.lower().str.strip() # todo en caps off y fuera espacios\n",
    "\n",
    "datos['lugarNormalizado'] = datos['lugar'].replace([\"ingenieria\", \"fcfm\", \"beauchef\", \"fcfm-dfi\", \"cmm\"] , \"Ingenieria\")\n",
    "\n",
    "datos['lugarNormalizado'] = datos['lugarNormalizado'].replace([\"facultad de ciencias quimicas y farmaceuticas\",\n",
    "     \"fcqyf\", \"faciqyf\", \"fciqyf\", \"fcqyf\", \"ciencias quimicas y farmaceuticas\", \"fac de ciencias quimicas y farmaceuticas\"] , \"FCQYF\")\n",
    "\n",
    "datos['lugarNormalizado'] = datos['lugarNormalizado'].replace([\"medicina\",\n",
    "     \"icbm - facultad de medicina\", \"medicina esp\", \"facultad de medicina\"] , \"FMED\")\n",
    "\n",
    "\n",
    "datos['institucion'] = datos['institucion'].str.normalize('NFKD').str.encode('ascii', errors='ignore').str.decode('utf-8')\n",
    "datos['institucion'] = datos['institucion'].str.lower().str.strip() \n",
    "\n",
    "datos['institucionNormalizada'] = datos['institucion'].replace([\"uchile\", \"u de chile\", \"u. chile\", \n",
    "     \"u chile\", \"u. de chile\", \"u.chile\", \"fcfm\", \"universidad de chile\", \"uch\"] , \"Uchile\")\n",
    "\n",
    "datos['institucionNormalizada'] = datos['institucionNormalizada'].replace([\"puc\", \"universidad catolica de chile\", \"uc\"] , \"PUC\")\n",
    "datos['institucionNormalizada'] = datos['institucionNormalizada'].replace([\"universidad andres bello\", \n",
    "     \"universidad nacional andres bello\", \"andres bello\", \"unab\"] , \"UNAB\")\n",
    "\n",
    "datos['institucionNormalizada'] = datos['institucionNormalizada'].replace([\"u mayor\", \n",
    "     \"universidad mayor\"] , \"UMayor\")"
   ]
  },
  {
   "cell_type": "code",
   "execution_count": 12,
   "metadata": {},
   "outputs": [
    {
     "data": {
      "text/html": [
       "<div>\n",
       "<style scoped>\n",
       "    .dataframe tbody tr th:only-of-type {\n",
       "        vertical-align: middle;\n",
       "    }\n",
       "\n",
       "    .dataframe tbody tr th {\n",
       "        vertical-align: top;\n",
       "    }\n",
       "\n",
       "    .dataframe thead th {\n",
       "        text-align: right;\n",
       "    }\n",
       "</style>\n",
       "<table border=\"1\" class=\"dataframe\">\n",
       "  <thead>\n",
       "    <tr style=\"text-align: right;\">\n",
       "      <th></th>\n",
       "      <th>timestamp</th>\n",
       "      <th>edad</th>\n",
       "      <th>sexo</th>\n",
       "      <th>posicion</th>\n",
       "      <th>lugar</th>\n",
       "      <th>institucion</th>\n",
       "      <th>lugarNormalizado</th>\n",
       "      <th>institucionNormalizada</th>\n",
       "    </tr>\n",
       "  </thead>\n",
       "  <tbody>\n",
       "    <tr>\n",
       "      <td>33</td>\n",
       "      <td>2019-11-04 14:12:45.355</td>\n",
       "      <td>23</td>\n",
       "      <td>Femenino</td>\n",
       "      <td>Estudiante</td>\n",
       "      <td>fcfm</td>\n",
       "      <td>u.chile</td>\n",
       "      <td>Ingenieria</td>\n",
       "      <td>Uchile</td>\n",
       "    </tr>\n",
       "    <tr>\n",
       "      <td>38</td>\n",
       "      <td>2019-11-04 14:13:06.835</td>\n",
       "      <td>25</td>\n",
       "      <td>Femenino</td>\n",
       "      <td>Estudiante</td>\n",
       "      <td>fcfm</td>\n",
       "      <td>uchile</td>\n",
       "      <td>Ingenieria</td>\n",
       "      <td>Uchile</td>\n",
       "    </tr>\n",
       "    <tr>\n",
       "      <td>97</td>\n",
       "      <td>2019-11-04 14:16:54.774</td>\n",
       "      <td>32</td>\n",
       "      <td>Masculino</td>\n",
       "      <td>Otro / No Aplica</td>\n",
       "      <td>fcfm</td>\n",
       "      <td>u.chile</td>\n",
       "      <td>Ingenieria</td>\n",
       "      <td>Uchile</td>\n",
       "    </tr>\n",
       "    <tr>\n",
       "      <td>5</td>\n",
       "      <td>2019-11-04 14:10:00.121</td>\n",
       "      <td>18</td>\n",
       "      <td>Masculino</td>\n",
       "      <td>Estudiante</td>\n",
       "      <td>NaN</td>\n",
       "      <td>fcfm</td>\n",
       "      <td>NaN</td>\n",
       "      <td>Uchile</td>\n",
       "    </tr>\n",
       "    <tr>\n",
       "      <td>32</td>\n",
       "      <td>2019-11-04 14:12:42.560</td>\n",
       "      <td>22</td>\n",
       "      <td>Femenino</td>\n",
       "      <td>Estudiante</td>\n",
       "      <td>fcfm</td>\n",
       "      <td>u.chile</td>\n",
       "      <td>Ingenieria</td>\n",
       "      <td>Uchile</td>\n",
       "    </tr>\n",
       "    <tr>\n",
       "      <td>56</td>\n",
       "      <td>2019-11-04 14:13:44.431</td>\n",
       "      <td>23</td>\n",
       "      <td>Masculino</td>\n",
       "      <td>Estudiante</td>\n",
       "      <td>fcfm-dfi</td>\n",
       "      <td>u chile</td>\n",
       "      <td>Ingenieria</td>\n",
       "      <td>Uchile</td>\n",
       "    </tr>\n",
       "    <tr>\n",
       "      <td>35</td>\n",
       "      <td>2019-11-04 14:12:50.839</td>\n",
       "      <td>23</td>\n",
       "      <td>Femenino</td>\n",
       "      <td>Estudiante</td>\n",
       "      <td>fcfm</td>\n",
       "      <td>uchile</td>\n",
       "      <td>Ingenieria</td>\n",
       "      <td>Uchile</td>\n",
       "    </tr>\n",
       "    <tr>\n",
       "      <td>18</td>\n",
       "      <td>2019-11-04 14:11:34.584</td>\n",
       "      <td>23</td>\n",
       "      <td>Masculino</td>\n",
       "      <td>Estudiante</td>\n",
       "      <td>fcqyf</td>\n",
       "      <td>u.chile</td>\n",
       "      <td>FCQYF</td>\n",
       "      <td>Uchile</td>\n",
       "    </tr>\n",
       "    <tr>\n",
       "      <td>150</td>\n",
       "      <td>2019-11-04 14:39:45.733</td>\n",
       "      <td>19</td>\n",
       "      <td>Masculino</td>\n",
       "      <td>Estudiante</td>\n",
       "      <td>fcfm</td>\n",
       "      <td>u.chile</td>\n",
       "      <td>Ingenieria</td>\n",
       "      <td>Uchile</td>\n",
       "    </tr>\n",
       "    <tr>\n",
       "      <td>4</td>\n",
       "      <td>2019-11-04 14:09:24.549</td>\n",
       "      <td>38</td>\n",
       "      <td>Masculino</td>\n",
       "      <td>Académico</td>\n",
       "      <td>fcfm</td>\n",
       "      <td>u. chile</td>\n",
       "      <td>Ingenieria</td>\n",
       "      <td>Uchile</td>\n",
       "    </tr>\n",
       "  </tbody>\n",
       "</table>\n",
       "</div>"
      ],
      "text/plain": [
       "                  timestamp  edad       sexo          posicion     lugar  \\\n",
       "33  2019-11-04 14:12:45.355    23   Femenino        Estudiante      fcfm   \n",
       "38  2019-11-04 14:13:06.835    25   Femenino        Estudiante      fcfm   \n",
       "97  2019-11-04 14:16:54.774    32  Masculino  Otro / No Aplica      fcfm   \n",
       "5   2019-11-04 14:10:00.121    18  Masculino        Estudiante       NaN   \n",
       "32  2019-11-04 14:12:42.560    22   Femenino        Estudiante      fcfm   \n",
       "56  2019-11-04 14:13:44.431    23  Masculino        Estudiante  fcfm-dfi   \n",
       "35  2019-11-04 14:12:50.839    23   Femenino        Estudiante      fcfm   \n",
       "18  2019-11-04 14:11:34.584    23  Masculino        Estudiante     fcqyf   \n",
       "150 2019-11-04 14:39:45.733    19  Masculino        Estudiante      fcfm   \n",
       "4   2019-11-04 14:09:24.549    38  Masculino         Académico      fcfm   \n",
       "\n",
       "    institucion lugarNormalizado institucionNormalizada  \n",
       "33      u.chile       Ingenieria                 Uchile  \n",
       "38       uchile       Ingenieria                 Uchile  \n",
       "97      u.chile       Ingenieria                 Uchile  \n",
       "5          fcfm              NaN                 Uchile  \n",
       "32      u.chile       Ingenieria                 Uchile  \n",
       "56      u chile       Ingenieria                 Uchile  \n",
       "35       uchile       Ingenieria                 Uchile  \n",
       "18      u.chile            FCQYF                 Uchile  \n",
       "150     u.chile       Ingenieria                 Uchile  \n",
       "4      u. chile       Ingenieria                 Uchile  "
      ]
     },
     "execution_count": 12,
     "metadata": {},
     "output_type": "execute_result"
    }
   ],
   "source": [
    "datos.sample(10)"
   ]
  },
  {
   "cell_type": "markdown",
   "metadata": {},
   "source": [
    "## Estadísticas sumarias"
   ]
  },
  {
   "cell_type": "code",
   "execution_count": 32,
   "metadata": {},
   "outputs": [
    {
     "data": {
      "text/plain": [
       "count    186.000000\n",
       "mean      27.010753\n",
       "std        8.997290\n",
       "min       18.000000\n",
       "25%       21.250000\n",
       "50%       24.000000\n",
       "75%       29.750000\n",
       "max       72.000000\n",
       "Name: edad, dtype: float64"
      ]
     },
     "execution_count": 32,
     "metadata": {},
     "output_type": "execute_result"
    }
   ],
   "source": [
    "datos['edad'].describe()"
   ]
  },
  {
   "cell_type": "code",
   "execution_count": 36,
   "metadata": {},
   "outputs": [
    {
     "data": {
      "text/plain": [
       "Masculino    117\n",
       "Femenino      68\n",
       "Otro           1\n",
       "Name: sexo, dtype: int64"
      ]
     },
     "execution_count": 36,
     "metadata": {},
     "output_type": "execute_result"
    }
   ],
   "source": [
    "datos['sexo'].value_counts(normalize=False)"
   ]
  },
  {
   "cell_type": "code",
   "execution_count": 37,
   "metadata": {},
   "outputs": [
    {
     "data": {
      "text/plain": [
       "Masculino    0.629032\n",
       "Femenino     0.365591\n",
       "Otro         0.005376\n",
       "Name: sexo, dtype: float64"
      ]
     },
     "execution_count": 37,
     "metadata": {},
     "output_type": "execute_result"
    }
   ],
   "source": [
    "datos['sexo'].value_counts(normalize=True)"
   ]
  },
  {
   "cell_type": "code",
   "execution_count": 38,
   "metadata": {},
   "outputs": [
    {
     "data": {
      "text/plain": [
       "Estudiante          132\n",
       "Investigador         21\n",
       "Académico            19\n",
       "Otro / No Aplica     14\n",
       "Name: posicion, dtype: int64"
      ]
     },
     "execution_count": 38,
     "metadata": {},
     "output_type": "execute_result"
    }
   ],
   "source": [
    "datos['posicion'].value_counts(normalize=False)"
   ]
  },
  {
   "cell_type": "code",
   "execution_count": 39,
   "metadata": {},
   "outputs": [
    {
     "data": {
      "text/plain": [
       "Estudiante          0.709677\n",
       "Investigador        0.112903\n",
       "Académico           0.102151\n",
       "Otro / No Aplica    0.075269\n",
       "Name: posicion, dtype: float64"
      ]
     },
     "execution_count": 39,
     "metadata": {},
     "output_type": "execute_result"
    }
   ],
   "source": [
    "datos['posicion'].value_counts(normalize=True)"
   ]
  },
  {
   "cell_type": "code",
   "execution_count": 40,
   "metadata": {},
   "outputs": [
    {
     "data": {
      "text/plain": [
       "Ingenieria                               128\n",
       "FCQYF                                     17\n",
       "FMED                                       6\n",
       "ciencias de la vida                        1\n",
       "ninguna                                    1\n",
       "fcfm geologia                              1\n",
       "facultad de ciencias biologicas uc         1\n",
       "facultad de ingenieria                     1\n",
       "geologia unab                              1\n",
       "farmacia                                   1\n",
       "artes                                      1\n",
       "ffhh                                       1\n",
       "facultad de ciencias de la vida            1\n",
       "geologia                                   1\n",
       "ciencias biologicas                        1\n",
       "facultad de arquitectura                   1\n",
       "fcfm - fmed                                1\n",
       "na                                         1\n",
       "ciencias veterinarias y pecuarias          1\n",
       "escuela de medicina uc                     1\n",
       "gema                                       1\n",
       "fundacion juan enrique lagarrigue          1\n",
       "salud                                      1\n",
       "facultad de ingenieria uc                  1\n",
       "iibm uc                                    1\n",
       "facultad de quimica y de farmacia puc      1\n",
       "Name: lugarNormalizado, dtype: int64"
      ]
     },
     "execution_count": 40,
     "metadata": {},
     "output_type": "execute_result"
    }
   ],
   "source": [
    "datos['lugarNormalizado'].value_counts(normalize=False)"
   ]
  },
  {
   "cell_type": "code",
   "execution_count": 41,
   "metadata": {},
   "outputs": [
    {
     "data": {
      "text/plain": [
       "Ingenieria                               0.735632\n",
       "FCQYF                                    0.097701\n",
       "FMED                                     0.034483\n",
       "ciencias de la vida                      0.005747\n",
       "ninguna                                  0.005747\n",
       "fcfm geologia                            0.005747\n",
       "facultad de ciencias biologicas uc       0.005747\n",
       "facultad de ingenieria                   0.005747\n",
       "geologia unab                            0.005747\n",
       "farmacia                                 0.005747\n",
       "artes                                    0.005747\n",
       "ffhh                                     0.005747\n",
       "facultad de ciencias de la vida          0.005747\n",
       "geologia                                 0.005747\n",
       "ciencias biologicas                      0.005747\n",
       "facultad de arquitectura                 0.005747\n",
       "fcfm - fmed                              0.005747\n",
       "na                                       0.005747\n",
       "ciencias veterinarias y pecuarias        0.005747\n",
       "escuela de medicina uc                   0.005747\n",
       "gema                                     0.005747\n",
       "fundacion juan enrique lagarrigue        0.005747\n",
       "salud                                    0.005747\n",
       "facultad de ingenieria uc                0.005747\n",
       "iibm uc                                  0.005747\n",
       "facultad de quimica y de farmacia puc    0.005747\n",
       "Name: lugarNormalizado, dtype: float64"
      ]
     },
     "execution_count": 41,
     "metadata": {},
     "output_type": "execute_result"
    }
   ],
   "source": [
    "datos['lugarNormalizado'].value_counts(normalize=True)"
   ]
  },
  {
   "cell_type": "code",
   "execution_count": 42,
   "metadata": {},
   "outputs": [
    {
     "data": {
      "text/plain": [
       "Uchile                        157\n",
       "UNAB                            8\n",
       "PUC                             6\n",
       "UMayor                          2\n",
       "universidad de valparaiso       1\n",
       "universidad de la serena        1\n",
       "universidad de concepcion       1\n",
       "titulada uandes                 1\n",
       "me pertenezco a mi              1\n",
       "egresado universidad arcis      1\n",
       "duoc uc                         1\n",
       "chile                           1\n",
       "Name: institucionNormalizada, dtype: int64"
      ]
     },
     "execution_count": 42,
     "metadata": {},
     "output_type": "execute_result"
    }
   ],
   "source": [
    "datos['institucionNormalizada'].value_counts(normalize=False)"
   ]
  },
  {
   "cell_type": "code",
   "execution_count": 43,
   "metadata": {},
   "outputs": [
    {
     "data": {
      "text/plain": [
       "Uchile                        0.867403\n",
       "UNAB                          0.044199\n",
       "PUC                           0.033149\n",
       "UMayor                        0.011050\n",
       "universidad de valparaiso     0.005525\n",
       "universidad de la serena      0.005525\n",
       "universidad de concepcion     0.005525\n",
       "titulada uandes               0.005525\n",
       "me pertenezco a mi            0.005525\n",
       "egresado universidad arcis    0.005525\n",
       "duoc uc                       0.005525\n",
       "chile                         0.005525\n",
       "Name: institucionNormalizada, dtype: float64"
      ]
     },
     "execution_count": 43,
     "metadata": {},
     "output_type": "execute_result"
    }
   ],
   "source": [
    "datos['institucionNormalizada'].value_counts(normalize=True)"
   ]
  },
  {
   "cell_type": "code",
   "execution_count": null,
   "metadata": {
    "collapsed": true
   },
   "outputs": [],
   "source": []
  }
 ],
 "metadata": {
  "kernelspec": {
   "display_name": "Python 3",
   "language": "python",
   "name": "python3"
  },
  "language_info": {
   "codemirror_mode": {
    "name": "ipython",
    "version": 3
   },
   "file_extension": ".py",
   "mimetype": "text/x-python",
   "name": "python",
   "nbconvert_exporter": "python",
   "pygments_lexer": "ipython3",
   "version": "3.6.7"
  }
 },
 "nbformat": 4,
 "nbformat_minor": 2
}
